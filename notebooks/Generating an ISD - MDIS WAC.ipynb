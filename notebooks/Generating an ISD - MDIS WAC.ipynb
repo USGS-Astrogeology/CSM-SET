{
 "cells": [
  {
   "cell_type": "markdown",
   "metadata": {},
   "source": [
    "# CSM ISD\n",
    "The community sensor model utilizes the concept of image support data to disentagle the process of collecting and collating a priori sensor information from the process of determining where the image is in relation to some reference frame.  In this notebook, we leverage the PVL and SpiceyPy Python libraries to generate two CSM compliant ISD objects."
   ]
  },
  {
   "cell_type": "code",
   "execution_count": 1,
   "metadata": {
    "collapsed": true
   },
   "outputs": [],
   "source": [
    "import json\n",
    "import spiceypy as spice\n",
    "import pvl\n",
    "import cycsm as csm  # This is the USGS cython wrapper to the C++ CSM"
   ]
  },
  {
   "cell_type": "code",
   "execution_count": 2,
   "metadata": {
    "collapsed": true
   },
   "outputs": [],
   "source": [
    "# Utility Func for working with PVL\n",
    "def find_in_dict(obj, key):\n",
    "    \"\"\"\n",
    "    Recursively find an entry in a dictionary\n",
    "\n",
    "    Parameters\n",
    "    ----------\n",
    "    obj : dict\n",
    "          The dictionary to search\n",
    "    key : str\n",
    "          The key to find in the dictionary\n",
    "\n",
    "    Returns\n",
    "    -------\n",
    "    item : obj\n",
    "           The value from the dictionary\n",
    "    \"\"\"\n",
    "    if key in obj:\n",
    "        return obj[key]\n",
    "    for k, v in obj.items():\n",
    "        if isinstance(v,dict):\n",
    "            item = find_in_dict(v, key)\n",
    "            if item is not None:\n",
    "                return item"
   ]
  },
  {
   "cell_type": "markdown",
   "metadata": {},
   "source": [
    "# MDIS WAC \n",
    "We start with the MDIS WAC camera and generate a JSON ISD string that can be used to create an ISD.  This ISD utilizes the NAIF Spice Library and SPICE kernels.\n",
    "\n",
    "First, we check for the kernels that will be furnished."
   ]
  },
  {
   "cell_type": "code",
   "execution_count": 12,
   "metadata": {
    "collapsed": false
   },
   "outputs": [],
   "source": [
    "ikid = 236800\n",
    "msgr = \"/data/isis3/data/messenger/\"  # This is the standard ISIS3 kernel location\n",
    "# Load kernels same order ISIS Spice::init() does\n",
    "# Frame\n",
    "# TargetAttitudeShape\n",
    "#spice.furnsh(msgr+\"kernels/pck/pck00010_msgr_v23.tpc\")  # Not shipping with ISIS (why?)\n",
    "spice.furnsh(msgr + 'kernels/pck/pck00010_MSGR_v10.tpc')  # Publicly available\n",
    "# Instrument\n",
    "spice.furnsh(msgr+\"kernels/ik/msgr_mdis_v160.ti\")\n",
    "# InstrumentAddendum\n",
    "spice.furnsh(msgr+\"kernels/iak/mdisAddendum009.ti\")\n",
    "# LeapSecond\n",
    "spice.furnsh(\"/data/isis3/data/base/kernels/lsk/naif0012.tls\")\n",
    "# SpacecraftClock\n",
    "spice.furnsh(msgr+\"kernels/sclk/messenger_2548.tsc\")\n",
    "# Extra\n",
    "# TargetPosition\n",
    "spice.furnsh(msgr+\"kernels/tspk/de423s.bsp\")\n",
    "# InstrumentPointing\n",
    "spice.furnsh(msgr+\"kernels/ck/msgr20150409.bc\")\n",
    "spice.furnsh(msgr+\"kernels/ck/msgr20150410.bc\")\n",
    "spice.furnsh(msgr+\"kernels/ck/msgr20150411.bc\")\n",
    "spice.furnsh(msgr+\"kernels/ck/msgr20150412.bc\")\n",
    "spice.furnsh(msgr+\"kernels/ck/msgr20150413.bc\")\n",
    "spice.furnsh(msgr+\"kernels/ck/msgr20150414.bc\")\n",
    "spice.furnsh(msgr+\"kernels/ck/msgr20150415.bc\")\n",
    "spice.furnsh(msgr+\"kernels/ck/msgr20150416.bc\")\n",
    "spice.furnsh(msgr+\"kernels/ck/1072683119_1965_mdis_atthist.bc\")\n",
    "spice.furnsh(msgr+\"kernels/ck/1072716050_291010_mdis_pivot_pvtres.bc\")\n",
    "spice.furnsh(msgr+\"kernels/fk/msgr_v231.tf\")\n",
    "# InstrumentPosition\n",
    "spice.furnsh(msgr+\"kernels/spk/msgr_20040803_20150430_od431sc_2.bsp\")"
   ]
  },
  {
   "cell_type": "markdown",
   "metadata": {},
   "source": [
    "ISD as a CSM ISD Object"
   ]
  },
  {
   "cell_type": "code",
   "execution_count": 14,
   "metadata": {
    "collapsed": false
   },
   "outputs": [],
   "source": [
    "# Create the ISD object\n",
    "isd = csm.isd.Isd()\n",
    "\n",
    "# Load information from the IK kernel\n",
    "isd.addparam('focal_length',spice.gdpool('INS-{}_FOCAL_LENGTH'.format(ikid), 0, 1))\n",
    "isd.addparam('focal_length_epsilon', spice.gdpool('INS-{}_FL_UNCERTAINTY'.format(ikid), 0, 1))\n",
    "\n",
    "nlines = spice.gipool('INS-{}_PIXEL_LINES'.format(ikid), 0, 1)\n",
    "nsamples = spice.gipool('INS-{}_PIXEL_SAMPLES'.format(ikid), 0, 1)\n",
    "isd.addparam('nlines', nlines)\n",
    "isd.addparam('nsamples', nsamples)\n",
    "isd.addparam('original_half_lines', nlines / 2.0)\n",
    "isd.addparam('original_half_samples', nsamples / 2.0)\n",
    "isd.addparam('pixel_pitch', spice.gdpool('INS-{}_PIXEL_PITCH'.format(ikid), 0, 1))\n",
    "isd.addparam('ccd_center', spice.gdpool('INS-{}_CCD_CENTER'.format(ikid), 0, 2))\n",
    "isd.addparam('ifov', spice.gdpool('INS-{}_IFOV'.format(ikid), 0, 1))\n",
    "isd.addparam('boresight', spice.gdpool('INS-{}_BORESIGHT'.format(ikid), 0, 3))\n",
    "isd.addparam('transx', spice.gdpool('INS-{}_TRANSX'.format(ikid), 0, 3))\n",
    "isd.addparam('transy', spice.gdpool('INS-{}_TRANSY'.format(ikid), 0, 3))\n",
    "isd.addparam('itrans_sample', spice.gdpool('INS-{}_ITRANSS'.format(ikid), 0, 3))\n",
    "isd.addparam('itrans_line', spice.gdpool('INS-{}_ITRANSL'.format(ikid), 0, 3))\n",
    "isd.addparam('odt_x', spice.gdpool('INS-{}_OD_T_X'.format(ikid), 0, 10))\n",
    "isd.addparam('odt_y', spice.gdpool('INS-{}_OD_T_Y'.format(ikid), 0, 10))\n",
    "isd.addparam('starting_detector_sample', spice.gdpool('INS-{}_FPUBIN_START_SAMPLE'.format(ikid), 0, 1))\n",
    "isd.addparam('starting_detector_line', spice.gdpool('INS-{}_FPUBIN_START_LINE'.format(ikid), 0, 1))"
   ]
  },
  {
   "cell_type": "markdown",
   "metadata": {},
   "source": [
    "# Distortion Model"
   ]
  },
  {
   "cell_type": "code",
   "execution_count": 15,
   "metadata": {
    "collapsed": true
   },
   "outputs": [],
   "source": [
    "def distort_focal_length(coeffs, t):\n",
    "    \"\"\"\n",
    "    Compute the distorted focal length\n",
    "    \n",
    "    Parameters\n",
    "    ----------\n",
    "    coeffs : iterable\n",
    "             of coefficient values\n",
    "    t : float\n",
    "        temperature in C\n",
    "        \n",
    "    Returns\n",
    "    -------\n",
    "    focal_length : float\n",
    "                   the temperature adjusted focal length\n",
    "    \"\"\"\n",
    "    focal_length = coeffs[0]\n",
    "    for i in range(1, len(coeffs[1:])):\n",
    "        focal_length += coeffs[i]*t**i\n",
    "    return focal_length"
   ]
  },
  {
   "cell_type": "markdown",
   "metadata": {},
   "source": [
    "# Image Information\n",
    "Load the image specific information from an ISIS3 cub PVL header.  It would be possible to use a cube that had already been spiceinit(ed) and just grab the appropriate kernel paths from there."
   ]
  },
  {
   "cell_type": "code",
   "execution_count": 21,
   "metadata": {
    "collapsed": false
   },
   "outputs": [],
   "source": [
    "header = pvl.load(\"../tests/data/CW1071364100B_IU_5.cub\")\n",
    "\n",
    "isd.addparam('instrument_id',find_in_dict(header, 'InstrumentId'))\n",
    "isd.addparam('spacecraft_name',find_in_dict(header, 'SpacecraftName'))\n",
    "isd.addparam('target_name', find_in_dict(header, 'TargetName'))\n",
    "filter_num = find_in_dict(header, 'OriginalFilterNumber')\n",
    "ikid += filter_num\n",
    "\n",
    "# Get the radii from SPICE\n",
    "rad = spice.bodvrd(isd.param('target_name'), 'RADII', 3)\n",
    "radii = rad[1]\n",
    "isd.addparam('semi_major_axis', rad[1][0])\n",
    "isd.addparam('semi_minor_axis', rad[1][1])\n",
    "\n",
    "\n",
    "# Get temperature from SPICE and adjust focal length\n",
    "spice.gdpool('INS-{}_FOCAL_LENGTH'.format(ikid), 0, 1)\n",
    "temp_coeffs = spice.gdpool('INS-{}_FL_TEMP_COEFFS'.format(ikid), 0, 6)\n",
    "temp = find_in_dict(header, 'FocalPlaneTemperature').value\n",
    "isd.addparam('focal_length', distort_focal_length(temp_coeffs, temp))"
   ]
  },
  {
   "cell_type": "code",
   "execution_count": 23,
   "metadata": {
    "collapsed": false
   },
   "outputs": [],
   "source": [
    "# Here convert the sclock\n",
    "sclock = find_in_dict(header, 'SpacecraftClockCount')\n",
    "exposure_duration = find_in_dict(header, 'ExposureDuration')\n",
    "exposure_duration = exposure_duration.value * 0.001  # Scale to seconds\n",
    "\n",
    "# Get the instrument id, and, since this is a framer, set the time to the middle of the exposure\n",
    "spacecraft_id = spice.bods2c('MESSENGER')\n",
    "et = spice.scs2e(spacecraft_id, sclock)\n",
    "et += (exposure_duration / 2.0)\n",
    "\n",
    "isd.addparam('ephemeris_time', et)"
   ]
  },
  {
   "cell_type": "code",
   "execution_count": 26,
   "metadata": {
    "collapsed": false
   },
   "outputs": [],
   "source": [
    "loc, _ = spice.spkpos(isd.param('target_name'), isd.param('ephemeris_time'), 'IAU_MERCURY', 'LT+S', 'MESSENGER')\n",
    "isd.addparam('x_sensor_origin', loc[0]  * -1000)\n",
    "isd.addparam('y_sensor_origin', loc[1]  * -1000)\n",
    "isd.addparam('z_sensor_origin', loc[2]  * -1000)"
   ]
  },
  {
   "cell_type": "code",
   "execution_count": 28,
   "metadata": {
    "collapsed": true
   },
   "outputs": [],
   "source": [
    "camera2bodyfixed = spice.pxform('MSGR_MDIS_WAC', 'IAU_MERCURY', isd.param('ephemeris_time'))\n",
    "camopk = spice.m2eul(camera2bodyfixed, 3, 2, 1)\n",
    "\n",
    "isd.addparam('omega',camopk[2])\n",
    "isd.addparam('phi', camopk[1])\n",
    "isd.addparam('kappa', camopk[0])"
   ]
  },
  {
   "cell_type": "code",
   "execution_count": 29,
   "metadata": {
    "collapsed": true
   },
   "outputs": [],
   "source": [
    "# Get the sun's position relative to a Mercury-fixed frame.\n",
    "target = \"SUN\"\n",
    "et =  isd.param('ephemeris_time')\n",
    "reference_frame = \"IAU_MERCURY\"\n",
    "light_time_correction = \"LT+S\"\n",
    "observer = \"MERCURY\"\n",
    "\n",
    "sun_state, lt = spice.spkezr(target,\n",
    "                             et,\n",
    "                             reference_frame,\n",
    "                             light_time_correction,\n",
    "                             observer)\n",
    "\n",
    "# Convert to meters\n",
    "isd.addparam('x_sun_position', sun_state[0] * 1000)\n",
    "isd.addparam('y_sun_position', sun_state[1] * 1000)\n",
    "isd.addparam('z_sun_position', sun_state[2] * 1000)"
   ]
  },
  {
   "cell_type": "markdown",
   "metadata": {},
   "source": [
    "# Done\n",
    "This is a CSM compliant ISD object.  It would now be possible to generate a CSM compliant MDIS WAC camera using the USGS CSM.  We do not do this in this notebook."
   ]
  },
  {
   "cell_type": "code",
   "execution_count": null,
   "metadata": {
    "collapsed": true
   },
   "outputs": [],
   "source": []
  }
 ],
 "metadata": {
  "kernelspec": {
   "display_name": "Python 3",
   "language": "python",
   "name": "python3"
  },
  "language_info": {
   "codemirror_mode": {
    "name": "ipython",
    "version": 3
   },
   "file_extension": ".py",
   "mimetype": "text/x-python",
   "name": "python",
   "nbconvert_exporter": "python",
   "pygments_lexer": "ipython3",
   "version": "3.5.2"
  }
 },
 "nbformat": 4,
 "nbformat_minor": 2
}
