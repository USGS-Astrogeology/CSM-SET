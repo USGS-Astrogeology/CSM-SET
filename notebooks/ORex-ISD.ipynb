{
 "cells": [
  {
   "cell_type": "code",
   "execution_count": 1,
   "metadata": {
    "collapsed": true
   },
   "outputs": [],
   "source": [
    "import json\n",
    "import os\n",
    "\n",
    "import numpy as np\n",
    "import spiceypy as spice\n",
    "import pvl"
   ]
  },
  {
   "cell_type": "code",
   "execution_count": 2,
   "metadata": {
    "collapsed": true
   },
   "outputs": [],
   "source": [
    "kerneldir = '/work/projects/OSIRIS-REx/data/kernels/'"
   ]
  },
  {
   "cell_type": "code",
   "execution_count": 3,
   "metadata": {
    "collapsed": true
   },
   "outputs": [],
   "source": [
    "# Writer class to serialize numpy arrays\n",
    "class NumpyAwareJSONEncoder(json.JSONEncoder):\n",
    "    def default(self, obj):\n",
    "        if isinstance(obj, np.ndarray) and obj.ndim == 1:\n",
    "            lobj = obj.tolist()\n",
    "            if len(lobj) == 1:\n",
    "                return lobj[0]\n",
    "            else:\n",
    "                return lobj\n",
    "        return json.JSONEncoder.default(self, obj)\n",
    "\n",
    "\n",
    "# Utility Func for working with PVL\n",
    "def find_in_dict(obj, key):\n",
    "    \"\"\"\n",
    "    Recursively find an entry in a dictionary\n",
    "\n",
    "    Parameters\n",
    "    ----------\n",
    "    obj : dict\n",
    "          The dictionary to search\n",
    "    key : str\n",
    "          The key to find in the dictionary\n",
    "\n",
    "    Returns\n",
    "    -------\n",
    "    item : obj\n",
    "           The value from the dictionary\n",
    "    \"\"\"\n",
    "    if key in obj:\n",
    "        return obj[key]\n",
    "    for k, v in obj.items():\n",
    "        if isinstance(v,dict):\n",
    "            item = find_in_dict(v, key)\n",
    "            if item is not None:\n",
    "                return item"
   ]
  },
  {
   "cell_type": "code",
   "execution_count": 4,
   "metadata": {
    "collapsed": true
   },
   "outputs": [],
   "source": [
    "isd= {}"
   ]
  },
  {
   "cell_type": "markdown",
   "metadata": {},
   "source": [
    "#  Select the instrument"
   ]
  },
  {
   "cell_type": "code",
   "execution_count": 5,
   "metadata": {
    "collapsed": true
   },
   "outputs": [],
   "source": [
    "ikid = 64360  # PolyCam\n",
    "#ikid = 64361  # MapCam\n",
    "#ikid = 64362  # SamCam"
   ]
  },
  {
   "cell_type": "code",
   "execution_count": 14,
   "metadata": {
    "collapsed": false
   },
   "outputs": [],
   "source": [
    "opj = os.path.join\n",
    "spice.furnsh(opj(kerneldir, 'new/bennu_v10.tpc'))\n",
    "spice.furnsh(opj(kerneldir, 'new/FRAME.tf'))\n",
    "spice.furnsh(opj(kerneldir, 'ik/orex_ocams_v02.ti'))\n",
    "spice.furnsh(opj(kerneldir, 'iak/orex_ocams_addendum_v02.ti'))\n",
    "spice.furnsh(opj(kerneldir, 'new/naif0011.tls'))\n",
    "spice.furnsh(opj(kerneldir, 'sclk/SCLK.tsc'))\n",
    "spice.furnsh(opj(kerneldir, 'new/de421.bsp'))\n",
    "\n",
    "if ikid == 64360:\n",
    "    # Total guess here...\n",
    "    spice.furnsh(opj(kerneldir, 'ck/Phase03_AP_ShapeModel_5.bc'))\n",
    "    spice.furnsh(opj(kerneldir, 'ck/Phase04_PS_PolyCam_1.bc'))\n",
    "    spice.furnsh(opj(kerneldir, 'ck/Phase04_PS_PolyCam_2.bc'))\n",
    "    spice.furnsh(opj(kerneldir, 'ck/Phase04_PS_PolyCam_3.bc'))\n",
    "    spice.furnsh(opj(kerneldir, 'ck/Phase04_PS_PolyCam_4.bc'))\n",
    "    spice.furnsh(opj(kerneldir, 'ck/Phase04_PS_PolyCam_5.bc'))\n",
    "    spice.furnsh(opj(kerneldir, 'ck/Phase04_PS_PolyCam_6.bc'))\n",
    "\n",
    "spice.furnsh(opj(kerneldir, 'new/orx_v03.tf'))\n",
    "spice.furnsh(opj(kerneldir, 'tspk/sb-101955-76.bsp'))\n",
    "spice.furnsh(opj(kerneldir, 'spk/OREX_DRMrevC_Phase03_AP_01s.bsp'))"
   ]
  },
  {
   "cell_type": "code",
   "execution_count": 7,
   "metadata": {
    "collapsed": false
   },
   "outputs": [],
   "source": [
    "# Load information from the IK kernel\n",
    "isd['focal_length'] = spice.gdpool('INS-{}_FOCAL_LENGTH'.format(ikid), 0, 1)\n",
    "isd['focal_length_epsilon'] = spice.gdpool('INS-{}_FL_UNCERTAINTY'.format(ikid), 0, 1)\n",
    "isd['nlines'] = spice.gipool('INS-{}_PIXEL_LINES'.format(ikid), 0, 1)\n",
    "isd['nsamples'] = spice.gipool('INS-{}_PIXEL_SAMPLES'.format(ikid), 0, 1)\n",
    "isd['original_half_lines'] = isd['nlines'] / 2.0\n",
    "isd['original_half_samples'] = isd['nsamples'] / 2.0\n",
    "isd['ccd_center'] = spice.gdpool('INS-{}_CCD_CENTER'.format(ikid), 0, 2)\n",
    "isd['ifov'] = spice.gdpool('INS-{}_IFOV'.format(ikid), 0, 1)\n",
    "isd['boresight'] = spice.gdpool('INS-{}_BORESIGHT'.format(ikid), 0, 3)\n",
    "isd['transx'] = spice.gdpool('INS-{}_TRANSX'.format(ikid), 0, 3)\n",
    "isd['transy'] = spice.gdpool('INS-{}_TRANSY'.format(ikid), 0, 3)\n",
    "isd['itrans_sample'] = spice.gdpool('INS-{}_ITRANSS'.format(ikid), 0, 3)\n",
    "isd['itrans_line'] = spice.gdpool('INS-{}_ITRANSL'.format(ikid), 0, 3)\n",
    "isd['focal_length'] = spice.gdpool('INS-{}_FOCAL_LENGTH'.format(ikid), 0, 1)"
   ]
  },
  {
   "cell_type": "code",
   "execution_count": 26,
   "metadata": {
    "collapsed": false
   },
   "outputs": [],
   "source": [
    "# Load the ISIS Cube header\n",
    "header = pvl.load('/work/projects/OSIRIS-REx/ORIGINAL/A18111310005_PCAM_L2.cub')\n",
    "\n",
    "isd['instrument_id'] = find_in_dict(header, 'InstrumentId')\n",
    "isd['spacecraft_name'] = find_in_dict(header, 'SpacecraftName')\n",
    "isd['target_name'] = find_in_dict(header, 'TargetName')\n",
    "\n",
    "# Get the radii from SPICE\n",
    "rad = spice.bodvrd(isd['target_name'], 'RADII', 3)\n",
    "radii = rad[1]\n",
    "isd['semi_a_axis'] = rad[1][0]\n",
    "isd['semi_b_axis'] = rad[1][1]\n",
    "isd['semi_c_axis'] = rad[1][2]"
   ]
  },
  {
   "cell_type": "code",
   "execution_count": 17,
   "metadata": {
    "collapsed": false,
    "scrolled": true
   },
   "outputs": [
    {
     "data": {
      "text/plain": [
       "PVLModule([\n",
       "  ('IsisCube',\n",
       "   {'BandBin': PVLGroup([\n",
       "    ('FilterName', 'Unknown')\n",
       "  ]),\n",
       "    'Core': {'Dimensions': {'Bands': 1,\n",
       "                            'Lines': 1024,\n",
       "                            'Samples': 1024},\n",
       "             'Format': 'Tile',\n",
       "             'Pixels': {'Base': 0.0,\n",
       "                        'ByteOrder': 'Lsb',\n",
       "                        'Multiplier': 1.0,\n",
       "                        'Type': 'Real'},\n",
       "             'StartByte': 65537,\n",
       "             'TileLines': 512,\n",
       "             'TileSamples': 512},\n",
       "    'Instrument': {'ExposureDuration': 100,\n",
       "                   'FocusPosition': 21510,\n",
       "                   'InstrumentId': 'PolyCam',\n",
       "                   'MissionName': 'OSIRIS-REx',\n",
       "                   'SpacecraftClockStartCount': '1/0595381631.37945',\n",
       "                   'SpacecraftName': 'OSIRIS-REX',\n",
       "                   'StartTime': '2018 13 Nov 11:47:07.579',\n",
       "                   'TargetName': 'Bennu'},\n",
       "    'Kernels': PVLGroup([\n",
       "    ('NaifFrameCode', -64360)\n",
       "  ])})\n",
       "  ('Label', PVLObject([\n",
       "    ('Bytes', 65536)\n",
       "  ]))\n",
       "  ('History',\n",
       "   {'Bytes': 493,\n",
       "    'Name': 'IsisCube',\n",
       "    'StartByte': 4259841})\n",
       "  ('OriginalLabel',\n",
       "   {'Bytes': 10280,\n",
       "    'Name': 'IsisCube',\n",
       "    'StartByte': 4260334})\n",
       "])"
      ]
     },
     "execution_count": 17,
     "metadata": {},
     "output_type": "execute_result"
    }
   ],
   "source": [
    "header"
   ]
  },
  {
   "cell_type": "markdown",
   "metadata": {},
   "source": [
    "# Time"
   ]
  },
  {
   "cell_type": "code",
   "execution_count": 18,
   "metadata": {
    "collapsed": false
   },
   "outputs": [],
   "source": [
    "# Here convert the sclock\n",
    "sclock = find_in_dict(header, 'SpacecraftClockStartCount')\n",
    "exposure_duration = find_in_dict(header, 'ExposureDuration')\n",
    "exposure_duration = exposure_duration * 0.001  # Scale to seconds\n",
    "\n",
    "# Get the instrument id, and, since this is a framer, set the time to the middle of the exposure\n",
    "spacecraft_id = spice.bods2c('OSIRIS-REX')\n",
    "et = spice.scs2e(spacecraft_id, sclock)\n",
    "et += (exposure_duration / 2.0)\n",
    "\n",
    "isd['ephemeris_time'] = et"
   ]
  },
  {
   "cell_type": "code",
   "execution_count": 19,
   "metadata": {
    "collapsed": false
   },
   "outputs": [],
   "source": [
    "loc, _ = spice.spkpos(isd['target_name'], isd['ephemeris_time'], 'IAU_BENNU', 'LT+S', 'OSIRIS-REX')\n",
    "\n",
    "# Scale to meters and reverse direction (since target=Mercury and observer=messenger)\n",
    "# we want vector from Mercury origin to spacecraft position\n",
    "isd['x_sensor_origin'] = loc[0] * -1000\n",
    "isd['y_sensor_origin'] = loc[1] * -1000\n",
    "isd['z_sensor_origin'] = loc[2] * -1000"
   ]
  },
  {
   "cell_type": "markdown",
   "metadata": {},
   "source": [
    "# Sensor Orientation"
   ]
  },
  {
   "cell_type": "code",
   "execution_count": 20,
   "metadata": {
    "collapsed": false
   },
   "outputs": [],
   "source": [
    "camera2bodyfixed = spice.pxform('ORX_OCAMS_POLYCAM','IAU_BENNU', isd['ephemeris_time'])\n",
    "opk = spice.m2eul(camera2bodyfixed, 3, 2, 1)\n",
    "\n",
    "isd['omega'] = opk[2]\n",
    "isd['phi'] = opk[1]\n",
    "isd['kappa'] = opk[0]"
   ]
  },
  {
   "cell_type": "markdown",
   "metadata": {},
   "source": [
    "# Sun Position"
   ]
  },
  {
   "cell_type": "code",
   "execution_count": 21,
   "metadata": {
    "collapsed": false
   },
   "outputs": [
    {
     "name": "stdout",
     "output_type": "stream",
     "text": [
      "SUN POSITION (m): -72584382155.74005 -131469457446.03712 -4308117323.711538\n"
     ]
    }
   ],
   "source": [
    "# Get the sun's position relative to a Mercury-fixed frame.\n",
    "target = \"SUN\"\n",
    "et = isd['ephemeris_time']\n",
    "reference_frame = \"IAU_BENNU\"\n",
    "light_time_correction = \"LT+S\"\n",
    "observer = \"BENNU\"\n",
    "\n",
    "sun_state, lt = spice.spkezr(target,\n",
    "                             et,\n",
    "                             reference_frame,\n",
    "                             light_time_correction,\n",
    "                             observer)\n",
    "\n",
    "# Convert to meters\n",
    "isd['x_sun_position'] = sun_state[0] * 1000\n",
    "isd['y_sun_position'] = sun_state[1] * 1000\n",
    "isd['z_sun_position'] = sun_state[2] * 1000\n",
    "print(\"SUN POSITION (m): {} {} {}\".format(sun_state[0]*1000,\n",
    "                                          sun_state[1]*1000,\n",
    "                                          sun_state[2]*1000))"
   ]
  },
  {
   "cell_type": "markdown",
   "metadata": {},
   "source": [
    "# Done!\n",
    "<span style=\"font-size:48pt;\">💵</span>"
   ]
  },
  {
   "cell_type": "code",
   "execution_count": 22,
   "metadata": {
    "collapsed": true
   },
   "outputs": [],
   "source": [
    "# Write it out\n",
    "with open('A18111310005_PCAM_L2.isd', 'w') as f:\n",
    "    f.write(json.dumps(isd, f, cls=NumpyAwareJSONEncoder, sort_keys=True, indent=4))"
   ]
  },
  {
   "cell_type": "code",
   "execution_count": 23,
   "metadata": {
    "collapsed": false,
    "scrolled": true
   },
   "outputs": [
    {
     "name": "stdout",
     "output_type": "stream",
     "text": [
      "{\r\n",
      "    \"boresight\": [\r\n",
      "        0.0,\r\n",
      "        0.0,\r\n",
      "        1.0\r\n",
      "    ],\r\n",
      "    \"ccd_center\": [\r\n",
      "        511.5,\r\n",
      "        511.5\r\n",
      "    ],\r\n",
      "    \"ephemeris_time\": 595381695.8116988,\r\n",
      "    \"focal_length\": 630.0,\r\n",
      "    \"focal_length_epsilon\": 5.0,\r\n",
      "    \"ifov\": 13.475999999999999,\r\n",
      "    \"instrument_id\": \"PolyCam\",\r\n",
      "    \"itrans_line\": [\r\n",
      "        0.0,\r\n",
      "        0.0,\r\n",
      "        -117.64705882353\r\n",
      "    ],\r\n",
      "    \"itrans_sample\": [\r\n",
      "        0.0,\r\n",
      "        117.64705882353,\r\n",
      "        0.0\r\n",
      "    ],\r\n",
      "    \"kappa\": -2.8464286672469763,\r\n",
      "    \"nlines\": 1024,\r\n",
      "    \"nsamples\": 1024,\r\n",
      "    \"omega\": -1.5943142528879,\r\n",
      "    \"original_half_lines\": 512.0,\r\n",
      "    \"original_half_samples\": 512.0,\r\n",
      "    \"phi\": 1.138936933411424,\r\n",
      "    \"semi_a_axis\": 0.2825,\r\n",
      "    \"semi_b_axis\": 0.2675,\r\n",
      "    \"semi_c_axis\": 0.254,\r\n",
      "    \"spacecraft_name\": \"OSIRIS-REX\",\r\n",
      "    \"target_name\": \"Bennu\",\r\n",
      "    \"transx\": [\r\n",
      "        0.0,\r\n",
      "        0.0085,\r\n",
      "        0.0\r\n",
      "    ],\r\n",
      "    \"transy\": [\r\n",
      "        0.0,\r\n",
      "        0.0,\r\n",
      "        -0.0085\r\n",
      "    ],\r\n",
      "    \"x_sensor_origin\": -23746.382688576374,\r\n",
      "    \"x_sun_position\": -72584382155.74005,\r\n",
      "    \"y_sensor_origin\": -84555.78039612206,\r\n",
      "    \"y_sun_position\": -131469457446.03712,\r\n",
      "    \"z_sensor_origin\": 868.1464518756829,\r\n",
      "    \"z_sun_position\": -4308117323.711538\r\n",
      "}"
     ]
    }
   ],
   "source": [
    "!cat A18111310005_PCAM_L2.isd"
   ]
  },
  {
   "cell_type": "code",
   "execution_count": null,
   "metadata": {
    "collapsed": true
   },
   "outputs": [],
   "source": []
  }
 ],
 "metadata": {
  "kernelspec": {
   "display_name": "Python 3",
   "language": "python",
   "name": "python3"
  },
  "language_info": {
   "codemirror_mode": {
    "name": "ipython",
    "version": 3
   },
   "file_extension": ".py",
   "mimetype": "text/x-python",
   "name": "python",
   "nbconvert_exporter": "python",
   "pygments_lexer": "ipython3",
   "version": "3.5.2"
  }
 },
 "nbformat": 4,
 "nbformat_minor": 2
}
